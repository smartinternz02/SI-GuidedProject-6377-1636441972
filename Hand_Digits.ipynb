{
 "cells": [
  {
   "cell_type": "code",
   "execution_count": 1,
   "id": "0d626be9",
   "metadata": {},
   "outputs": [],
   "source": [
    "# Shiv Taneja\n",
    "#VIT Bhopal\n",
    "#shiv.taneja2019@vitbhopal.ac.in"
   ]
  },
  {
   "cell_type": "code",
   "execution_count": 2,
   "id": "2783211a",
   "metadata": {},
   "outputs": [
    {
     "name": "stderr",
     "output_type": "stream",
     "text": [
      "C:\\Users\\shiv taneja\\AppData\\Local\\anaconda3\\lib\\site-packages\\tensorflow\\python\\framework\\dtypes.py:516: FutureWarning: Passing (type, 1) or '1type' as a synonym of type is deprecated; in a future version of numpy, it will be understood as (type, (1,)) / '(1,)type'.\n",
      "  _np_qint8 = np.dtype([(\"qint8\", np.int8, 1)])\n",
      "C:\\Users\\shiv taneja\\AppData\\Local\\anaconda3\\lib\\site-packages\\tensorflow\\python\\framework\\dtypes.py:517: FutureWarning: Passing (type, 1) or '1type' as a synonym of type is deprecated; in a future version of numpy, it will be understood as (type, (1,)) / '(1,)type'.\n",
      "  _np_quint8 = np.dtype([(\"quint8\", np.uint8, 1)])\n",
      "C:\\Users\\shiv taneja\\AppData\\Local\\anaconda3\\lib\\site-packages\\tensorflow\\python\\framework\\dtypes.py:518: FutureWarning: Passing (type, 1) or '1type' as a synonym of type is deprecated; in a future version of numpy, it will be understood as (type, (1,)) / '(1,)type'.\n",
      "  _np_qint16 = np.dtype([(\"qint16\", np.int16, 1)])\n",
      "C:\\Users\\shiv taneja\\AppData\\Local\\anaconda3\\lib\\site-packages\\tensorflow\\python\\framework\\dtypes.py:519: FutureWarning: Passing (type, 1) or '1type' as a synonym of type is deprecated; in a future version of numpy, it will be understood as (type, (1,)) / '(1,)type'.\n",
      "  _np_quint16 = np.dtype([(\"quint16\", np.uint16, 1)])\n",
      "C:\\Users\\shiv taneja\\AppData\\Local\\anaconda3\\lib\\site-packages\\tensorflow\\python\\framework\\dtypes.py:520: FutureWarning: Passing (type, 1) or '1type' as a synonym of type is deprecated; in a future version of numpy, it will be understood as (type, (1,)) / '(1,)type'.\n",
      "  _np_qint32 = np.dtype([(\"qint32\", np.int32, 1)])\n",
      "C:\\Users\\shiv taneja\\AppData\\Local\\anaconda3\\lib\\site-packages\\tensorflow\\python\\framework\\dtypes.py:525: FutureWarning: Passing (type, 1) or '1type' as a synonym of type is deprecated; in a future version of numpy, it will be understood as (type, (1,)) / '(1,)type'.\n",
      "  np_resource = np.dtype([(\"resource\", np.ubyte, 1)])\n",
      "C:\\Users\\shiv taneja\\AppData\\Local\\anaconda3\\lib\\site-packages\\tensorboard\\compat\\tensorflow_stub\\dtypes.py:541: FutureWarning: Passing (type, 1) or '1type' as a synonym of type is deprecated; in a future version of numpy, it will be understood as (type, (1,)) / '(1,)type'.\n",
      "  _np_qint8 = np.dtype([(\"qint8\", np.int8, 1)])\n",
      "C:\\Users\\shiv taneja\\AppData\\Local\\anaconda3\\lib\\site-packages\\tensorboard\\compat\\tensorflow_stub\\dtypes.py:542: FutureWarning: Passing (type, 1) or '1type' as a synonym of type is deprecated; in a future version of numpy, it will be understood as (type, (1,)) / '(1,)type'.\n",
      "  _np_quint8 = np.dtype([(\"quint8\", np.uint8, 1)])\n",
      "C:\\Users\\shiv taneja\\AppData\\Local\\anaconda3\\lib\\site-packages\\tensorboard\\compat\\tensorflow_stub\\dtypes.py:543: FutureWarning: Passing (type, 1) or '1type' as a synonym of type is deprecated; in a future version of numpy, it will be understood as (type, (1,)) / '(1,)type'.\n",
      "  _np_qint16 = np.dtype([(\"qint16\", np.int16, 1)])\n",
      "C:\\Users\\shiv taneja\\AppData\\Local\\anaconda3\\lib\\site-packages\\tensorboard\\compat\\tensorflow_stub\\dtypes.py:544: FutureWarning: Passing (type, 1) or '1type' as a synonym of type is deprecated; in a future version of numpy, it will be understood as (type, (1,)) / '(1,)type'.\n",
      "  _np_quint16 = np.dtype([(\"quint16\", np.uint16, 1)])\n",
      "C:\\Users\\shiv taneja\\AppData\\Local\\anaconda3\\lib\\site-packages\\tensorboard\\compat\\tensorflow_stub\\dtypes.py:545: FutureWarning: Passing (type, 1) or '1type' as a synonym of type is deprecated; in a future version of numpy, it will be understood as (type, (1,)) / '(1,)type'.\n",
      "  _np_qint32 = np.dtype([(\"qint32\", np.int32, 1)])\n",
      "C:\\Users\\shiv taneja\\AppData\\Local\\anaconda3\\lib\\site-packages\\tensorboard\\compat\\tensorflow_stub\\dtypes.py:550: FutureWarning: Passing (type, 1) or '1type' as a synonym of type is deprecated; in a future version of numpy, it will be understood as (type, (1,)) / '(1,)type'.\n",
      "  np_resource = np.dtype([(\"resource\", np.ubyte, 1)])\n"
     ]
    }
   ],
   "source": [
    "from tensorflow.keras.models import Sequential\n",
    "from tensorflow.keras.layers import Convolution2D\n",
    "from tensorflow.keras.layers import MaxPooling2D\n",
    "from tensorflow.keras.layers import Dense\n",
    "from tensorflow.keras.layers import Flatten"
   ]
  },
  {
   "cell_type": "markdown",
   "id": "238db201",
   "metadata": {},
   "source": [
    "## Image Pre-Processing"
   ]
  },
  {
   "cell_type": "code",
   "execution_count": 4,
   "id": "cb161a72",
   "metadata": {},
   "outputs": [],
   "source": [
    "from tensorflow.keras.preprocessing.image import ImageDataGenerator"
   ]
  },
  {
   "cell_type": "raw",
   "id": "73fdaee3",
   "metadata": {},
   "source": [
    "Image Augmentation Techniques\n",
    "1. Image Scaling\n",
    "2. Image Shifting\n",
    "3. Image Rotation\n",
    "4. Image Flipping\n",
    "5. Image Noising\n",
    "6. Image Blurring"
   ]
  },
  {
   "cell_type": "code",
   "execution_count": 5,
   "id": "dad1de65",
   "metadata": {},
   "outputs": [],
   "source": [
    "train_data=ImageDataGenerator(rescale=1./255,shear_range=0.2,zoom_range=0.2,horizontal_flip=True)\n",
    "test_data=ImageDataGenerator(rescale=1./255)"
   ]
  },
  {
   "cell_type": "code",
   "execution_count": 44,
   "id": "e6b9f9f3",
   "metadata": {},
   "outputs": [
    {
     "name": "stdout",
     "output_type": "stream",
     "text": [
      "Found 160 images belonging to 10 classes.\n",
      "Found 50 images belonging to 10 classes.\n"
     ]
    }
   ],
   "source": [
    "x_train=train_data.flow_from_directory(r\"Hand_digits\\traindata\",target_size=(96,96),batch_size=10,class_mode=\"categorical\")\n",
    "x_test=test_data.flow_from_directory(r\"Hand_digits\\testdata\",target_size=(96,96),batch_size=10,class_mode=\"categorical\")"
   ]
  },
  {
   "cell_type": "code",
   "execution_count": 45,
   "id": "738c1926",
   "metadata": {},
   "outputs": [
    {
     "data": {
      "text/plain": [
       "{'0': 0,\n",
       " '1': 1,\n",
       " '2': 2,\n",
       " '3': 3,\n",
       " '4': 4,\n",
       " '5': 5,\n",
       " '6': 6,\n",
       " '7': 7,\n",
       " '8': 8,\n",
       " '9': 9}"
      ]
     },
     "execution_count": 45,
     "metadata": {},
     "output_type": "execute_result"
    }
   ],
   "source": [
    "x_train.class_indices"
   ]
  },
  {
   "cell_type": "code",
   "execution_count": 46,
   "id": "cbc01ded",
   "metadata": {},
   "outputs": [
    {
     "data": {
      "text/plain": [
       "{'0': 0,\n",
       " '1': 1,\n",
       " '2': 2,\n",
       " '3': 3,\n",
       " '4': 4,\n",
       " '5': 5,\n",
       " '6': 6,\n",
       " '7': 7,\n",
       " '8': 8,\n",
       " '9': 9}"
      ]
     },
     "execution_count": 46,
     "metadata": {},
     "output_type": "execute_result"
    }
   ],
   "source": [
    "x_test.class_indices"
   ]
  },
  {
   "cell_type": "markdown",
   "id": "37be18d8",
   "metadata": {},
   "source": [
    "## Model Building"
   ]
  },
  {
   "cell_type": "code",
   "execution_count": 47,
   "id": "9961bda0",
   "metadata": {},
   "outputs": [],
   "source": [
    "model=Sequential()"
   ]
  },
  {
   "cell_type": "code",
   "execution_count": 48,
   "id": "f2914452",
   "metadata": {},
   "outputs": [],
   "source": [
    "#add convoultion layer(no.of filters,filter size,input shape,activation function)\n",
    "model.add(Convolution2D(32,(3,3),input_shape=(96,96,3),activation=\"relu\"))"
   ]
  },
  {
   "cell_type": "code",
   "execution_count": 49,
   "id": "23013067",
   "metadata": {},
   "outputs": [],
   "source": [
    "# add maxpooling(pool_size)\n",
    "model.add(MaxPooling2D(pool_size=(2,2)))"
   ]
  },
  {
   "cell_type": "code",
   "execution_count": 50,
   "id": "11200b0f",
   "metadata": {},
   "outputs": [],
   "source": [
    "# flatten layer---input layer of ann\n",
    "model.add(Flatten())"
   ]
  },
  {
   "cell_type": "code",
   "execution_count": 51,
   "id": "c0e4d01a",
   "metadata": {},
   "outputs": [],
   "source": [
    "# hidden layer(units,activation fucniton)\n",
    "model.add(Dense(units=150,activation=\"relu\"))"
   ]
  },
  {
   "cell_type": "code",
   "execution_count": 52,
   "id": "7c9939ed",
   "metadata": {},
   "outputs": [],
   "source": [
    "# output layer(no.of neurons,activation function)\n",
    "model.add(Dense(units=10,activation=\"softmax\"))"
   ]
  },
  {
   "cell_type": "code",
   "execution_count": 53,
   "id": "b26c232c",
   "metadata": {},
   "outputs": [
    {
     "name": "stdout",
     "output_type": "stream",
     "text": [
      "Model: \"sequential_1\"\n",
      "_________________________________________________________________\n",
      "Layer (type)                 Output Shape              Param #   \n",
      "=================================================================\n",
      "conv2d_2 (Conv2D)            (None, 94, 94, 32)        896       \n",
      "_________________________________________________________________\n",
      "max_pooling2d_1 (MaxPooling2 (None, 47, 47, 32)        0         \n",
      "_________________________________________________________________\n",
      "flatten_1 (Flatten)          (None, 70688)             0         \n",
      "_________________________________________________________________\n",
      "dense_10 (Dense)             (None, 150)               10603350  \n",
      "_________________________________________________________________\n",
      "dense_11 (Dense)             (None, 10)                1510      \n",
      "=================================================================\n",
      "Total params: 10,605,756\n",
      "Trainable params: 10,605,756\n",
      "Non-trainable params: 0\n",
      "_________________________________________________________________\n"
     ]
    }
   ],
   "source": [
    "model.summary()"
   ]
  },
  {
   "cell_type": "code",
   "execution_count": 54,
   "id": "154712a0",
   "metadata": {},
   "outputs": [],
   "source": [
    "#filter values and weights"
   ]
  },
  {
   "cell_type": "code",
   "execution_count": 55,
   "id": "d528ad98",
   "metadata": {},
   "outputs": [],
   "source": [
    "# compile the model(optimizer,loss,metric)\n",
    "model.compile(loss=\"categorical_crossentropy\",optimizer=\"adam\",metrics=[\"accuracy\"])"
   ]
  },
  {
   "cell_type": "code",
   "execution_count": 56,
   "id": "bdc27eac",
   "metadata": {},
   "outputs": [
    {
     "name": "stdout",
     "output_type": "stream",
     "text": [
      "Epoch 1/30\n",
      "16/16 [==============================] - 2s 143ms/step - loss: 8.3330 - acc: 0.1000 - val_loss: 2.7474 - val_acc: 0.1000\n",
      "Epoch 2/30\n",
      "16/16 [==============================] - 1s 92ms/step - loss: 2.4500 - acc: 0.1187 - val_loss: 2.3248 - val_acc: 0.1000\n",
      "Epoch 3/30\n",
      "16/16 [==============================] - 1s 94ms/step - loss: 2.2751 - acc: 0.1250 - val_loss: 2.2617 - val_acc: 0.1200\n",
      "Epoch 4/30\n",
      "16/16 [==============================] - 1s 94ms/step - loss: 2.1753 - acc: 0.2500 - val_loss: 2.2062 - val_acc: 0.1600\n",
      "Epoch 5/30\n",
      "16/16 [==============================] - 2s 95ms/step - loss: 2.1127 - acc: 0.2875 - val_loss: 2.1494 - val_acc: 0.2600\n",
      "Epoch 6/30\n",
      "16/16 [==============================] - 2s 100ms/step - loss: 1.9480 - acc: 0.3438 - val_loss: 2.0460 - val_acc: 0.2600\n",
      "Epoch 7/30\n",
      "16/16 [==============================] - 2s 94ms/step - loss: 1.7961 - acc: 0.5000 - val_loss: 1.9337 - val_acc: 0.3400\n",
      "Epoch 8/30\n",
      "16/16 [==============================] - 1s 94ms/step - loss: 1.6982 - acc: 0.4938 - val_loss: 1.8679 - val_acc: 0.3800\n",
      "Epoch 9/30\n",
      "16/16 [==============================] - 1s 93ms/step - loss: 1.5317 - acc: 0.5562 - val_loss: 1.8020 - val_acc: 0.3800\n",
      "Epoch 10/30\n",
      "16/16 [==============================] - 2s 94ms/step - loss: 1.4047 - acc: 0.6313 - val_loss: 1.7386 - val_acc: 0.4200\n",
      "Epoch 11/30\n",
      "16/16 [==============================] - 1s 94ms/step - loss: 1.2971 - acc: 0.6062 - val_loss: 1.8551 - val_acc: 0.3600\n",
      "Epoch 12/30\n",
      "16/16 [==============================] - 2s 94ms/step - loss: 1.1984 - acc: 0.6187 - val_loss: 1.7668 - val_acc: 0.3400\n",
      "Epoch 13/30\n",
      "16/16 [==============================] - 2s 95ms/step - loss: 1.1602 - acc: 0.6687 - val_loss: 1.8563 - val_acc: 0.4000\n",
      "Epoch 14/30\n",
      "16/16 [==============================] - 2s 96ms/step - loss: 1.0726 - acc: 0.7000 - val_loss: 1.6530 - val_acc: 0.5000\n",
      "Epoch 15/30\n",
      "16/16 [==============================] - 2s 95ms/step - loss: 1.0045 - acc: 0.6938 - val_loss: 1.7010 - val_acc: 0.4400\n",
      "Epoch 16/30\n",
      "16/16 [==============================] - 2s 97ms/step - loss: 0.9439 - acc: 0.7375 - val_loss: 1.6737 - val_acc: 0.5000\n",
      "Epoch 17/30\n",
      "16/16 [==============================] - 2s 97ms/step - loss: 0.8323 - acc: 0.7500 - val_loss: 1.6021 - val_acc: 0.4800\n",
      "Epoch 18/30\n",
      "16/16 [==============================] - 1s 93ms/step - loss: 0.7820 - acc: 0.7937 - val_loss: 1.5612 - val_acc: 0.5200\n",
      "Epoch 19/30\n",
      "16/16 [==============================] - 1s 94ms/step - loss: 0.6744 - acc: 0.7812 - val_loss: 1.6998 - val_acc: 0.4800\n",
      "Epoch 20/30\n",
      "16/16 [==============================] - 1s 93ms/step - loss: 0.6548 - acc: 0.8500 - val_loss: 1.5220 - val_acc: 0.4800\n",
      "Epoch 21/30\n",
      "16/16 [==============================] - 1s 91ms/step - loss: 0.6157 - acc: 0.7875 - val_loss: 1.4681 - val_acc: 0.5200\n",
      "Epoch 22/30\n",
      "16/16 [==============================] - 1s 92ms/step - loss: 0.5809 - acc: 0.8500 - val_loss: 1.5193 - val_acc: 0.5600\n",
      "Epoch 23/30\n",
      "16/16 [==============================] - 2s 103ms/step - loss: 0.5174 - acc: 0.8687 - val_loss: 1.6251 - val_acc: 0.5400\n",
      "Epoch 24/30\n",
      "16/16 [==============================] - 2s 94ms/step - loss: 0.5476 - acc: 0.8438 - val_loss: 1.4463 - val_acc: 0.5200\n",
      "Epoch 25/30\n",
      "16/16 [==============================] - 2s 95ms/step - loss: 0.5723 - acc: 0.8250 - val_loss: 1.4605 - val_acc: 0.5200\n",
      "Epoch 26/30\n",
      "16/16 [==============================] - 2s 94ms/step - loss: 0.5108 - acc: 0.8813 - val_loss: 1.5062 - val_acc: 0.5200\n",
      "Epoch 27/30\n",
      "16/16 [==============================] - 1s 91ms/step - loss: 0.4017 - acc: 0.8875 - val_loss: 1.3983 - val_acc: 0.5600\n",
      "Epoch 28/30\n",
      "16/16 [==============================] - 2s 96ms/step - loss: 0.4716 - acc: 0.8938 - val_loss: 1.4759 - val_acc: 0.5600\n",
      "Epoch 29/30\n",
      "16/16 [==============================] - 2s 101ms/step - loss: 0.3563 - acc: 0.9312 - val_loss: 1.5988 - val_acc: 0.5600\n",
      "Epoch 30/30\n",
      "16/16 [==============================] - 1s 93ms/step - loss: 0.4054 - acc: 0.8750 - val_loss: 1.5157 - val_acc: 0.6000\n"
     ]
    },
    {
     "data": {
      "text/plain": [
       "<tensorflow.python.keras.callbacks.History at 0x22396b26b08>"
      ]
     },
     "execution_count": 56,
     "metadata": {},
     "output_type": "execute_result"
    }
   ],
   "source": [
    "# fit the model(x_train,steps per epoch,no.of epochs,vaidation data=test data)\n",
    "model.fit(x_train,steps_per_epoch=16,epochs=30,validation_steps=5,validation_data=x_test)"
   ]
  },
  {
   "cell_type": "markdown",
   "id": "37f4ad9f",
   "metadata": {},
   "source": [
    "## Save the Model"
   ]
  },
  {
   "cell_type": "code",
   "execution_count": 57,
   "id": "42551968",
   "metadata": {},
   "outputs": [],
   "source": [
    "model.save(\"hand_digit.h5\")"
   ]
  },
  {
   "cell_type": "markdown",
   "id": "86beadde",
   "metadata": {},
   "source": [
    "## Test the Model"
   ]
  },
  {
   "cell_type": "code",
   "execution_count": 59,
   "id": "a6714833",
   "metadata": {},
   "outputs": [],
   "source": [
    "from tensorflow.keras.models import load_model\n",
    "from tensorflow.keras.preprocessing import image\n",
    "import numpy as np"
   ]
  },
  {
   "cell_type": "code",
   "execution_count": 60,
   "id": "7e41f26c",
   "metadata": {},
   "outputs": [
    {
     "name": "stdout",
     "output_type": "stream",
     "text": [
      "WARNING:tensorflow:From C:\\Users\\shiv taneja\\AppData\\Local\\anaconda3\\lib\\site-packages\\tensorflow\\python\\ops\\init_ops.py:97: calling GlorotUniform.__init__ (from tensorflow.python.ops.init_ops) with dtype is deprecated and will be removed in a future version.\n",
      "Instructions for updating:\n",
      "Call initializer instance with the dtype argument instead of passing it to the constructor\n",
      "WARNING:tensorflow:From C:\\Users\\shiv taneja\\AppData\\Local\\anaconda3\\lib\\site-packages\\tensorflow\\python\\ops\\init_ops.py:97: calling Zeros.__init__ (from tensorflow.python.ops.init_ops) with dtype is deprecated and will be removed in a future version.\n",
      "Instructions for updating:\n",
      "Call initializer instance with the dtype argument instead of passing it to the constructor\n"
     ]
    }
   ],
   "source": [
    "model=load_model(\"hand_digit.h5\")"
   ]
  },
  {
   "cell_type": "code",
   "execution_count": 64,
   "id": "09469dd7",
   "metadata": {},
   "outputs": [
    {
     "data": {
      "text/plain": [
       "(1, 96, 96, 3)"
      ]
     },
     "execution_count": 64,
     "metadata": {},
     "output_type": "execute_result"
    }
   ],
   "source": [
    "img=image.load_img(r\"Hand_digits\\sample1.png\",target_size=(96,96))\n",
    "s1=image.img_to_array(img)\n",
    "s1=np.expand_dims(s1,axis=0)\n",
    "s1.shape"
   ]
  },
  {
   "cell_type": "code",
   "execution_count": 65,
   "id": "4269f12f",
   "metadata": {},
   "outputs": [
    {
     "data": {
      "image/png": "[encoded data removed]",
      "text/plain": [
       "<PIL.Image.Image image mode=RGB size=96x96 at 0x223970ADF48>"
      ]
     },
     "execution_count": 65,
     "metadata": {},
     "output_type": "execute_result"
    }
   ],
   "source": [
    "index=[0,1,2,3,4,5,6,7,8,9]\n",
    "img"
   ]
  },
  {
   "cell_type": "code",
   "execution_count": 66,
   "id": "5f1b55d9",
   "metadata": {},
   "outputs": [
    {
     "name": "stdout",
     "output_type": "stream",
     "text": [
      "Result(Prediction): 1\n"
     ]
    }
   ],
   "source": [
    "result=index[np.argmax(model.predict(s1),axis=1)[0]]\n",
    "print(\"Result(Prediction):\",result)"
   ]
  },
  {
   "cell_type": "code",
   "execution_count": 77,
   "id": "59730d26",
   "metadata": {},
   "outputs": [
    {
     "data": {
      "text/plain": [
       "(1, 96, 96, 3)"
      ]
     },
     "execution_count": 77,
     "metadata": {},
     "output_type": "execute_result"
    }
   ],
   "source": [
    "img=image.load_img(\"Hand_digits\\sample6.png\",target_size=(96,96))\n",
    "s2=image.img_to_array(img)\n",
    "s2=np.expand_dims(s2,axis=0)\n",
    "s2.shape"
   ]
  },
  {
   "cell_type": "code",
   "execution_count": 78,
   "id": "ba56bf7b",
   "metadata": {},
   "outputs": [
    {
     "data": {
      "image/png": "[encoded data removed]",
      "text/plain": [
       "<PIL.Image.Image image mode=RGB size=96x96 at 0x223970CBF88>"
      ]
     },
     "execution_count": 78,
     "metadata": {},
     "output_type": "execute_result"
    }
   ],
   "source": [
    "img"
   ]
  },
  {
   "cell_type": "code",
   "execution_count": 79,
   "id": "a4552c9c",
   "metadata": {},
   "outputs": [
    {
     "name": "stdout",
     "output_type": "stream",
     "text": [
      "Result(Prediction): 6\n"
     ]
    }
   ],
   "source": [
    "result=index[np.argmax(model.predict(s2),axis=1)[0]]\n",
    "print(\"Result(Prediction):\",result)"
   ]
  },
  {
   "cell_type": "code",
   "execution_count": 73,
   "id": "3bbf9661",
   "metadata": {},
   "outputs": [],
   "source": [
    "img=image.load_img(\"Hand_digits\\sample2.png\",target_size=(96,96))\n",
    "s3=image.img_to_array(img)\n",
    "s3=np.expand_dims(s3,axis=0)"
   ]
  },
  {
   "cell_type": "code",
   "execution_count": 74,
   "id": "069e36ef",
   "metadata": {},
   "outputs": [
    {
     "data": {
      "image/png": "[encoded data removed]",
      "text/plain": [
       "<PIL.Image.Image image mode=RGB size=96x96 at 0x223970ADEC8>"
      ]
     },
     "execution_count": 74,
     "metadata": {},
     "output_type": "execute_result"
    }
   ],
   "source": [
    "img"
   ]
  },
  {
   "cell_type": "code",
   "execution_count": 75,
   "id": "d4efac67",
   "metadata": {},
   "outputs": [
    {
     "name": "stdout",
     "output_type": "stream",
     "text": [
      "Result(Prediction): 2\n"
     ]
    }
   ],
   "source": [
    "result=index[np.argmax(model.predict(s3),axis=1)[0]]\n",
    "print(\"Result(Prediction):\",result)"
   ]
  },
  {
   "cell_type": "markdown",
   "id": "1348c8b1",
   "metadata": {},
   "source": [
    "# End! Thank You!"
   ]
  }
 ],
 "metadata": {
  "kernelspec": {
   "display_name": "Python 3",
   "language": "python",
   "name": "python3"
  },
  "language_info": {
   "codemirror_mode": {
    "name": "ipython",
    "version": 3
   },
   "file_extension": ".py",
   "mimetype": "text/x-python",
   "name": "python",
   "nbconvert_exporter": "python",
   "pygments_lexer": "ipython3",
   "version": "3.7.9"
  }
 },
 "nbformat": 4,
 "nbformat_minor": 5
}
